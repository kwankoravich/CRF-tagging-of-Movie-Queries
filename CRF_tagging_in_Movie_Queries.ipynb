{
 "cells": [
  {
   "cell_type": "markdown",
   "metadata": {
    "id": "sl-NBezioz4s"
   },
   "source": [
    "# CRF sequence tagging for Movie Queries"
   ]
  },
  {
   "cell_type": "code",
   "execution_count": null,
   "metadata": {},
   "outputs": [],
   "source": [
    "Import any library that we use in this project"
   ]
  },
  {
   "cell_type": "code",
   "execution_count": 1,
   "metadata": {
    "id": "GhJNed-8oz4u"
   },
   "outputs": [
    {
     "name": "stderr",
     "output_type": "stream",
     "text": [
      "[nltk_data] Downloading package punkt to\n",
      "[nltk_data]     C:\\Users\\ADMIN\\AppData\\Roaming\\nltk_data...\n",
      "[nltk_data]   Package punkt is already up-to-date!\n"
     ]
    },
    {
     "data": {
      "text/plain": [
       "True"
      ]
     },
     "execution_count": 1,
     "metadata": {},
     "output_type": "execute_result"
    }
   ],
   "source": [
    "import os\n",
    "import sys\n",
    "\n",
    "from copy import deepcopy\n",
    "from collections import Counter\n",
    "from nltk.tag import CRFTagger\n",
    "from nltk.tokenize import word_tokenize\n",
    "\n",
    "from sklearn.metrics import confusion_matrix\n",
    "from sklearn.metrics import precision_recall_fscore_support\n",
    "from sklearn.metrics import classification_report\n",
    "\n",
    "from matplotlib import pyplot as plt\n",
    "import numpy as np\n",
    "\n",
    "import re\n",
    "import unicodedata\n",
    "import nltk\n",
    "\n",
    "nltk.download('punkt')\n"
   ]
  },
  {
   "cell_type": "code",
   "execution_count": null,
   "metadata": {},
   "outputs": [],
   "source": [
    "Defining the function for extracting the dataset"
   ]
  },
  {
   "cell_type": "code",
   "execution_count": 2,
   "metadata": {
    "id": "B5ltieStoz41"
   },
   "outputs": [],
   "source": [
    "def get_raw_data_from_bio_file(fpath):\n",
    "    \"\"\"A simple function to read in from a one-word-per-line BIO\n",
    "    (Beginning, Inside, Outside) tagged corpus, tab separated\n",
    "    and each example sentence/text separated with a blank line.\n",
    "    The data is already tokenized in a simple way.\n",
    "    e.g.:                     \n",
    "    \n",
    "    O\ta\n",
    "    O\tgreat\n",
    "    O\tlunch\n",
    "    O\tspot\n",
    "    O\tbut\n",
    "    B-Hours\topen\n",
    "    I-Hours\ttill\n",
    "    I-Hours\t2\n",
    "    I-Hours\ta\n",
    "    I-Hours\tm\n",
    "    B-Restaurant_Name\tpassims\n",
    "    I-Restaurant_Name\tkitchen\n",
    "    \n",
    "    returns a list of lists of tuples of (word, tag) tuples\n",
    "    \"\"\"\n",
    "    f = open(fpath)\n",
    "    data = []  # the data, a list of lists of (word, tag) tuples\n",
    "    current_sent = []  # data for current sentence/example\n",
    "    for line in f:\n",
    "        if line == \"\\n\":  # each instance has a blank line separating it from next one\n",
    "            # solution\n",
    "            data.append(current_sent)\n",
    "            current_sent = []\n",
    "            continue\n",
    "        line_data = line.strip(\"\\n\").split(\"\\t\")\n",
    "        current_sent.append((line_data[1], line_data[0]))\n",
    "    f.close()\n",
    "    return data"
   ]
  },
  {
   "cell_type": "code",
   "execution_count": 3,
   "metadata": {
    "id": "GQsXSXh4oz46"
   },
   "outputs": [],
   "source": [
    "raw_training_data = get_raw_data_from_bio_file(\"engtrain.bio.txt\") "
   ]
  },
  {
   "cell_type": "code",
   "execution_count": 4,
   "metadata": {
    "colab": {
     "base_uri": "https://localhost:8080/"
    },
    "id": "tWecFxnfoz4-",
    "outputId": "e4a9f412-7d06-4471-aadc-e83b32c9e00d"
   },
   "outputs": [
    {
     "name": "stdout",
     "output_type": "stream",
     "text": [
      "[('what', 'O'), ('movies', 'O'), ('star', 'O'), ('bruce', 'B-ACTOR'), ('willis', 'I-ACTOR')]\n"
     ]
    }
   ],
   "source": [
    "# have a look at the first example\n",
    "print(raw_training_data[0])"
   ]
  },
  {
   "cell_type": "code",
   "execution_count": 5,
   "metadata": {
    "colab": {
     "base_uri": "https://localhost:8080/"
    },
    "id": "7b21pBEPoz5D",
    "outputId": "014f998b-988d-4794-ca50-f651a2c9864e"
   },
   "outputs": [
    {
     "name": "stdout",
     "output_type": "stream",
     "text": [
      "9775 instances\n",
      "99491 words\n"
     ]
    }
   ],
   "source": [
    "print(len(raw_training_data), \"instances\")\n",
    "print(sum([len(sent) for sent in raw_training_data]), \"words\")"
   ]
  },
  {
   "cell_type": "code",
   "execution_count": 6,
   "metadata": {
    "id": "RrQq2_9poz5H"
   },
   "outputs": [],
   "source": [
    "def preProcess(example):\n",
    "    \"\"\"Function takes in list of (word, bio-tag) pairs, e.g.:\n",
    "        [('what', 'O'), ('movies', 'O'), ('star', 'O'), ('bruce', 'B-ACTOR'), ('willis', 'I-ACTOR')]\n",
    "    returns new (token, bio-tag) pairs with preprocessing applied to the words\"\"\"\n",
    "       \n",
    "    preprocessed_example = example\n",
    "    return preprocessed_example"
   ]
  },
  {
   "cell_type": "code",
   "execution_count": 7,
   "metadata": {
    "id": "qOvXY8cToz5K"
   },
   "outputs": [],
   "source": [
    "training_data = [preProcess(example) for example in raw_training_data]"
   ]
  },
  {
   "cell_type": "code",
   "execution_count": 8,
   "metadata": {
    "colab": {
     "base_uri": "https://localhost:8080/"
    },
    "id": "gIxWpt2loz5P",
    "outputId": "7b65d712-1567-48cc-af7c-d9399fc22fb3"
   },
   "outputs": [
    {
     "name": "stdout",
     "output_type": "stream",
     "text": [
      "[('what', 'O'), ('movies', 'O'), ('star', 'O'), ('bruce', 'B-ACTOR'), ('willis', 'I-ACTOR')]\n"
     ]
    }
   ],
   "source": [
    "# check the effect of pre-processing\n",
    "print(training_data[0])"
   ]
  },
  {
   "cell_type": "code",
   "execution_count": null,
   "metadata": {},
   "outputs": [],
   "source": [
    "Defining the function to do feature engineering by using NLP method"
   ]
  },
  {
   "cell_type": "code",
   "execution_count": 9,
   "metadata": {
    "id": "_S04ttSXoz5S"
   },
   "outputs": [],
   "source": [
    "_pattern = re.compile(r\"\\d\")  # to recognize numbers/digits\n",
    "\n",
    "# This is the 'out-of-the-box' get_features function from the nltk CRF tagger\n",
    "def get_features(tokens, idx):\n",
    "    \"\"\"\n",
    "    Extract basic features about this word including\n",
    "         - Current Word\n",
    "         - Is Capitalized ?\n",
    "         - Has Punctuation ?\n",
    "         - Has Number ?\n",
    "         - Suffixes up to length 3\n",
    "    Note that : we might include feature over previous word, next word ect.\n",
    "\n",
    "    :return : a list which contains the features\n",
    "    :rtype : list(str)\n",
    "\n",
    "    \"\"\"\n",
    "    token = tokens[idx]\n",
    "    feature_list = []\n",
    "\n",
    "    if not token:\n",
    "        return feature_list\n",
    "\n",
    "    # Capitalization\n",
    "    if token[0].isupper():\n",
    "        feature_list.append(\"CAPITALIZATION\")\n",
    "\n",
    "    # Number\n",
    "    if re.search(_pattern, token) is not None:\n",
    "        feature_list.append(\"HAS_NUM\")\n",
    "\n",
    "    # Punctuation\n",
    "    punc_cat = set([\"Pc\", \"Pd\", \"Ps\", \"Pe\", \"Pi\", \"Pf\", \"Po\"])\n",
    "    if all(unicodedata.category(x) in punc_cat for x in token):\n",
    "        feature_list.append(\"PUNCTUATION\")\n",
    "\n",
    "    # Suffix up to length 3\n",
    "    if len(token) > 1:\n",
    "        feature_list.append(\"SUF_\" + token[-1:])\n",
    "    if len(token) > 2:\n",
    "        feature_list.append(\"SUF_\" + token[-2:])\n",
    "    if len(token) > 3:\n",
    "        feature_list.append(\"SUF_\" + token[-3:])\n",
    "        \n",
    "    feature_list.append(\"WORD_\" + token)\n",
    "    #print(feature_list)\n",
    "    return feature_list"
   ]
  },
  {
   "cell_type": "code",
   "execution_count": 10,
   "metadata": {
    "colab": {
     "base_uri": "https://localhost:8080/"
    },
    "id": "yGc81WkJ0PB3",
    "outputId": "1d474bf2-cfca-475b-b46d-07f6eb4edc4a"
   },
   "outputs": [
    {
     "name": "stdout",
     "output_type": "stream",
     "text": [
      "Requirement already satisfied: python-crfsuite in c:\\users\\admin\\anaconda3\\lib\\site-packages (0.9.7)Note: you may need to restart the kernel to use updated packages.\n"
     ]
    },
    {
     "name": "stderr",
     "output_type": "stream",
     "text": [
      "WARNING: You are using pip version 20.2.3; however, version 20.2.4 is available.\n",
      "You should consider upgrading via the 'C:\\Users\\ADMIN\\anaconda3\\python.exe -m pip install --upgrade pip' command.\n"
     ]
    },
    {
     "name": "stdout",
     "output_type": "stream",
     "text": [
      "\n"
     ]
    }
   ],
   "source": [
    "pip install python-crfsuite"
   ]
  },
  {
   "cell_type": "code",
   "execution_count": null,
   "metadata": {},
   "outputs": [],
   "source": [
    "Implement CRF Tagging to train the model"
   ]
  },
  {
   "cell_type": "code",
   "execution_count": 11,
   "metadata": {
    "colab": {
     "base_uri": "https://localhost:8080/"
    },
    "id": "4IoVF0j2oz5V",
    "outputId": "2d401231-c434-4716-e14e-b235e7faa39b"
   },
   "outputs": [
    {
     "name": "stdout",
     "output_type": "stream",
     "text": [
      "training tagger...\n",
      "done\n"
     ]
    }
   ],
   "source": [
    "# Train the CRF BIO-tag tagger\n",
    "TAGGER_PATH = \"crf_nlu.tagger\"  # path to the tagger- it will save/access the model from here\n",
    "ct = CRFTagger(feature_func=get_features)  # initialize tagger with get_features function\n",
    "\n",
    "print(\"training tagger...\")\n",
    "ct.train(training_data, TAGGER_PATH)\n",
    "print(\"done\")"
   ]
  },
  {
   "cell_type": "code",
   "execution_count": 12,
   "metadata": {
    "colab": {
     "base_uri": "https://localhost:8080/"
    },
    "id": "2loxKNVRoz5Y",
    "outputId": "3dc23b02-2f01-4c94-80f7-301b09698f9f"
   },
   "outputs": [
    {
     "name": "stdout",
     "output_type": "stream",
     "text": [
      "2443 instances\n",
      "24686 words\n"
     ]
    }
   ],
   "source": [
    "# load tagger from saved file\n",
    "ct = CRFTagger(feature_func=get_features)  # initialize tagger\n",
    "ct.set_model_file(TAGGER_PATH)  # load model from file\n",
    "\n",
    "# prepare the test data:\n",
    "raw_test_data = get_raw_data_from_bio_file(\"engtest.bio.txt\") \n",
    "test_data = [preProcess(example) for example in raw_test_data]\n",
    "print(len(test_data), \"instances\")\n",
    "print(sum([len(sent) for sent in test_data]), \"words\")"
   ]
  },
  {
   "cell_type": "code",
   "execution_count": 13,
   "metadata": {
    "colab": {
     "base_uri": "https://localhost:8080/"
    },
    "id": "9uhOCgG7oz5b",
    "outputId": "c4bcbefe-1493-4371-f1b8-e9b4670d3a9a"
   },
   "outputs": [
    {
     "name": "stdout",
     "output_type": "stream",
     "text": [
      "testing tagger...\n",
      "done\n"
     ]
    }
   ],
   "source": [
    "print(\"testing tagger...\")\n",
    "preds = []\n",
    "y_test = []\n",
    "for sent in test_data:\n",
    "    sent_preds = [x[1] for x in ct.tag([s[0] for s in sent])]\n",
    "    sent_true = [s[1] for s in sent]\n",
    "    preds.extend(sent_preds)\n",
    "    y_test.extend(sent_true)\n",
    "print(\"done\")"
   ]
  },
  {
   "cell_type": "code",
   "execution_count": 14,
   "metadata": {
    "colab": {
     "base_uri": "https://localhost:8080/"
    },
    "id": "4NK9gnkPoz5f",
    "outputId": "4ff3b931-5230-4cdb-8490-615de30e2936"
   },
   "outputs": [
    {
     "name": "stderr",
     "output_type": "stream",
     "text": [
      "C:\\Users\\ADMIN\\anaconda3\\lib\\site-packages\\sklearn\\metrics\\_classification.py:1221: UndefinedMetricWarning: Precision and F-score are ill-defined and being set to 0.0 in labels with no predicted samples. Use `zero_division` parameter to control this behavior.\n",
      "  _warn_prf(average, modifier, msg_start, len(result))\n"
     ]
    },
    {
     "name": "stdout",
     "output_type": "stream",
     "text": [
      "                   precision    recall  f1-score   support\n",
      "\n",
      "          B-ACTOR       0.76      0.88      0.81       812\n",
      "      B-CHARACTER       0.72      0.26      0.38        90\n",
      "       B-DIRECTOR       0.77      0.61      0.68       456\n",
      "          B-GENRE       0.91      0.95      0.93      1117\n",
      "           B-PLOT       0.60      0.40      0.48       491\n",
      "         B-RATING       0.98      0.97      0.97       500\n",
      "B-RATINGS_AVERAGE       0.87      0.82      0.84       451\n",
      "         B-REVIEW       0.14      0.02      0.03        56\n",
      "           B-SONG       0.69      0.17      0.27        54\n",
      "          B-TITLE       0.58      0.50      0.54       562\n",
      "        B-TRAILER       0.80      0.80      0.80        30\n",
      "           B-YEAR       0.94      0.94      0.94       720\n",
      "          I-ACTOR       0.75      0.89      0.81       862\n",
      "      I-CHARACTER       0.76      0.29      0.42        75\n",
      "       I-DIRECTOR       0.78      0.60      0.68       496\n",
      "          I-GENRE       0.84      0.71      0.77       222\n",
      "           I-PLOT       0.49      0.32      0.39       496\n",
      "         I-RATING       0.98      0.87      0.92       226\n",
      "I-RATINGS_AVERAGE       0.81      0.87      0.84       403\n",
      "         I-REVIEW       0.00      0.00      0.00        45\n",
      "           I-SONG       0.65      0.22      0.33       119\n",
      "          I-TITLE       0.58      0.69      0.63       856\n",
      "        I-TRAILER       0.00      0.00      0.00         8\n",
      "           I-YEAR       0.96      0.97      0.96       610\n",
      "                O       0.93      0.96      0.95     14929\n",
      "\n",
      "         accuracy                           0.88     24686\n",
      "        macro avg       0.69      0.59      0.62     24686\n",
      "     weighted avg       0.87      0.88      0.87     24686\n",
      "\n"
     ]
    }
   ],
   "source": [
    "# Output the classification report (which you should save each time for comparing your models)\n",
    "print(classification_report(y_test, preds))"
   ]
  },
  {
   "cell_type": "code",
   "execution_count": 15,
   "metadata": {
    "id": "sUmd_cFboz5i"
   },
   "outputs": [],
   "source": [
    "def confusion_matrix_heatmap(y_test, preds):\n",
    "    \"\"\"Function to plot a confusion matrix\"\"\"\n",
    "    labels = list(set(y_test))   # get the labels in the y_test\n",
    "    # print(labels)\n",
    "    cm = confusion_matrix(y_test, preds, labels)\n",
    "    fig = plt.figure(figsize=(20,20))\n",
    "    ax = fig.add_subplot(111)\n",
    "    cax = ax.matshow(cm)\n",
    "    plt.title('Confusion matrix of the classifier')\n",
    "    fig.colorbar(cax)\n",
    "    ax.set_xticks(np.arange(len(labels)))\n",
    "    ax.set_yticks(np.arange(len(labels)))\n",
    "    ax.set_xticklabels( labels, rotation=45)\n",
    "    ax.set_yticklabels( labels)\n",
    "\n",
    "    for i in range(len(cm)):\n",
    "        for j in range(len(cm)):\n",
    "            text = ax.text(j, i, cm[i, j],\n",
    "                           ha=\"center\", va=\"center\", color=\"w\")\n",
    "\n",
    "    plt.xlabel('Predicted')\n",
    "    plt.ylabel('True')\n",
    "    #fig.tight_layout()\n",
    "    plt.show()"
   ]
  },
  {
   "cell_type": "code",
   "execution_count": 16,
   "metadata": {
    "colab": {
     "base_uri": "https://localhost:8080/",
     "height": 1000
    },
    "id": "ys_TSM6Koz5m",
    "outputId": "3d9a25a2-9cd5-4d2b-e666-1d4911ab49df"
   },
   "outputs": [
    {
     "name": "stderr",
     "output_type": "stream",
     "text": [
      "C:\\Users\\ADMIN\\anaconda3\\lib\\site-packages\\sklearn\\utils\\validation.py:68: FutureWarning: Pass labels=['B-RATINGS_AVERAGE', 'I-SONG', 'O', 'I-TITLE', 'B-TITLE', 'I-GENRE', 'B-YEAR', 'B-SONG', 'I-REVIEW', 'I-TRAILER', 'B-PLOT', 'I-RATING', 'B-DIRECTOR', 'B-TRAILER', 'I-PLOT', 'I-YEAR', 'I-CHARACTER', 'I-ACTOR', 'B-CHARACTER', 'B-ACTOR', 'I-RATINGS_AVERAGE', 'B-REVIEW', 'I-DIRECTOR', 'B-GENRE', 'B-RATING'] as keyword args. From version 0.25 passing these as positional arguments will result in an error\n",
      "  warnings.warn(\"Pass {} as keyword args. From version 0.25 \"\n"
     ]
    },
    {
     "data": {
      "image/png": "[encoded data removed]",
      "text/plain": [
       "<Figure size 1440x1440 with 2 Axes>"
      ]
     },
     "metadata": {
      "needs_background": "light"
     },
     "output_type": "display_data"
    }
   ],
   "source": [
    "confusion_matrix_heatmap(y_test, preds)"
   ]
  },
  {
   "cell_type": "markdown",
   "metadata": {
    "id": "qKpTtJ-woz5p"
   },
   "source": [
    "# Split the training data into 80% training, 20% development set \n",
    "We need to separate the data from the engtrain.bio.txt- 80% for training data, 20% for developing the model "
   ]
  },
  {
   "cell_type": "code",
   "execution_count": 20,
   "metadata": {
    "colab": {
     "base_uri": "https://localhost:8080/"
    },
    "id": "lISTE3ztBDqG",
    "outputId": "0c72cf8d-b27e-4b46-97fd-10d84fd51b25"
   },
   "outputs": [],
   "source": [
    "\n",
    "percentage = 0.8 # separate the data in 80% of training data and 20% of testing_data\n",
    "data_sample = len(training_data) # find the length of training_data\n",
    "training_sample = int((percentage*data_sample)) # create the number of training data\n",
    "train_dataset = training_data[:training_sample] # create the list which store train_data\n",
    "test_dataset = training_data[training_sample:] # create the list which store test_data\n",
    "    \n",
    "  \n",
    "\n",
    "\n"
   ]
  },
  {
   "cell_type": "markdown",
   "metadata": {
    "id": "0ciFeBV2oz5p"
   },
   "source": [
    "# Error analysis 1: False positives \n",
    "\n",
    "we can perform error analysis for improving NLP application. So, we can illustrate 5 lowest precision classes, according to the result of 20% development data, showing the false positive for that class. For example,  the label is predicted in the predicted label for a given word by the tagger, but this is not present in the corresponding ground truth label for that word "
   ]
  },
  {
   "cell_type": "code",
   "execution_count": 21,
   "metadata": {
    "colab": {
     "base_uri": "https://localhost:8080/"
    },
    "id": "5xFRNpCmxzZN",
    "outputId": "4e548969-0e55-4f84-9ace-083af5fa1f4d"
   },
   "outputs": [
    {
     "name": "stdout",
     "output_type": "stream",
     "text": [
      "testing tagger...\n",
      "done\n"
     ]
    }
   ],
   "source": [
    "print(\"testing tagger...\")\n",
    "# we will train the data by using CRFTagger()\n",
    "predict_result = [] #create list\n",
    "y_predict = []\n",
    "sent_predict_result = []\n",
    "sent_y_predict = []  \n",
    "for i in test_dataset:\n",
    "\n",
    "      # we use the previous code the train the data\n",
    "      sent_predict_result = [k[1] for k in ct.tag([j[0] for j in i])] # we will tag the word(j) by using ct.tag() and store BIO- tag in sent_predict_result\n",
    "      sent_y_predict = [j[1] for j in i] # we store all BIO-tag, which has one line, in sent_y_predict\n",
    "      predict_result.extend(sent_predict_result) # add the data in predict_result \n",
    "      y_predict.extend(sent_y_predict) # add the data in y_predict    \n",
    "\n",
    "\n",
    "print(\"done\")"
   ]
  },
  {
   "cell_type": "code",
   "execution_count": 22,
   "metadata": {
    "colab": {
     "base_uri": "https://localhost:8080/"
    },
    "id": "UYoYFMVOURgg",
    "outputId": "a84d7d10-6078-4221-bffc-4ae9c6075abc"
   },
   "outputs": [
    {
     "name": "stdout",
     "output_type": "stream",
     "text": [
      "                   precision    recall  f1-score   support\n",
      "\n",
      "          B-ACTOR       0.83      0.94      0.88       433\n",
      "      B-CHARACTER       0.95      0.93      0.94        44\n",
      "       B-DIRECTOR       0.90      0.81      0.86       365\n",
      "          B-GENRE       0.97      0.98      0.98       927\n",
      "           B-PLOT       0.80      0.61      0.69       298\n",
      "         B-RATING       1.00      1.00      1.00       430\n",
      "B-RATINGS_AVERAGE       0.91      0.90      0.91       451\n",
      "         B-REVIEW       0.00      0.00      0.00        31\n",
      "           B-SONG       0.76      0.65      0.70        20\n",
      "          B-TITLE       0.85      0.66      0.74       679\n",
      "        B-TRAILER       1.00      0.68      0.81        28\n",
      "           B-YEAR       0.96      1.00      0.98       535\n",
      "          I-ACTOR       0.84      0.93      0.88       482\n",
      "      I-CHARACTER       0.90      0.94      0.92        47\n",
      "       I-DIRECTOR       0.91      0.81      0.86       410\n",
      "          I-GENRE       0.95      1.00      0.97       123\n",
      "           I-PLOT       0.63      0.81      0.71       148\n",
      "         I-RATING       0.99      1.00      1.00       156\n",
      "I-RATINGS_AVERAGE       0.81      0.95      0.87       408\n",
      "         I-REVIEW       0.00      0.00      0.00         9\n",
      "           I-SONG       0.68      0.63      0.65        43\n",
      "          I-TITLE       0.90      0.80      0.85      1182\n",
      "        I-TRAILER       0.00      0.00      0.00         1\n",
      "           I-YEAR       0.97      1.00      0.99       528\n",
      "                O       0.96      0.98      0.97     12447\n",
      "\n",
      "         accuracy                           0.94     20225\n",
      "        macro avg       0.78      0.76      0.77     20225\n",
      "     weighted avg       0.94      0.94      0.93     20225\n",
      "\n"
     ]
    }
   ],
   "source": [
    "print(classification_report(y_predict,predict_result))"
   ]
  },
  {
   "cell_type": "code",
   "execution_count": 23,
   "metadata": {
    "colab": {
     "base_uri": "https://localhost:8080/"
    },
    "id": "GiEpiV-Yaway",
    "outputId": "b54e0fd5-87b6-4fcc-b1fb-b3f6a77b366c"
   },
   "outputs": [
    {
     "name": "stderr",
     "output_type": "stream",
     "text": [
      "C:\\Users\\ADMIN\\anaconda3\\lib\\site-packages\\sklearn\\metrics\\_classification.py:1221: UndefinedMetricWarning: Precision and F-score are ill-defined and being set to 0.0 in labels with no predicted samples. Use `zero_division` parameter to control this behavior.\n",
      "  _warn_prf(average, modifier, msg_start, len(result))\n"
     ]
    }
   ],
   "source": [
    "import pandas as pd \n",
    "def classification_report_table(table): # this function will convert classification_report to csv file\n",
    "   data_table = []\n",
    "   column_data = table.split('\\n') # split the data and consider in single-line\n",
    "   for i in column_data[2:-5]: # iterate the data which consider only the data (not white space). So we use index from 2 until the last five lines\n",
    "       row_classification = {} # create dictionary\n",
    "       row_data = ' '.join(i.split()) # split the data by all white space and join the data again by one white space\n",
    "       row_data = row_data.split(' ') # split the data again in order to visualise easily, P.S. we use this method to distiguish the column\n",
    "       row_classification['class'] = row_data[0] # given data in class\n",
    "       row_classification['precision'] = ' '.join(map(str, row_data[1:2])) #given data in precision\n",
    "       row_classification['recall'] = ' '.join(map(str, row_data[2:3])) #given data in recall\n",
    "       row_classification['f1-score'] = ' '.join(map(str, row_data[3:4])) #given data in f1-score\n",
    "       row_classification['support'] = row_data[-1] #given data in support\n",
    "       data_table.append(row_classification) # add the all data in single line to data_table\n",
    "   df = pd.DataFrame.from_dict(data_table) # use this data to create csv file\n",
    "   df.to_csv('classification_report.csv' ,index = False)\n",
    "   \n",
    "x = classification_report(y_predict, predict_result) #store classification_report in x\n",
    "classification_report_table(x) # execute function"
   ]
  },
  {
   "cell_type": "code",
   "execution_count": null,
   "metadata": {},
   "outputs": [],
   "source": []
  },
  {
   "cell_type": "code",
   "execution_count": 24,
   "metadata": {
    "colab": {
     "base_uri": "https://localhost:8080/"
    },
    "id": "jfPst307fo68",
    "outputId": "0ce9a9a3-d97e-48a4-fd70-3a557453242b"
   },
   "outputs": [
    {
     "name": "stdout",
     "output_type": "stream",
     "text": [
      "                class  precision  recall  f1-score  support\n",
      "0             B-ACTOR       0.83    0.94      0.88      433\n",
      "1         B-CHARACTER       0.95    0.93      0.94       44\n",
      "2          B-DIRECTOR       0.90    0.81      0.86      365\n",
      "3             B-GENRE       0.97    0.98      0.98      927\n",
      "4              B-PLOT       0.80    0.61      0.69      298\n",
      "5            B-RATING       1.00    1.00      1.00      430\n",
      "6   B-RATINGS_AVERAGE       0.91    0.90      0.91      451\n",
      "7            B-REVIEW       0.00    0.00      0.00       31\n",
      "8              B-SONG       0.76    0.65      0.70       20\n",
      "9             B-TITLE       0.85    0.66      0.74      679\n",
      "10          B-TRAILER       1.00    0.68      0.81       28\n",
      "11             B-YEAR       0.96    1.00      0.98      535\n",
      "12            I-ACTOR       0.84    0.93      0.88      482\n",
      "13        I-CHARACTER       0.90    0.94      0.92       47\n",
      "14         I-DIRECTOR       0.91    0.81      0.86      410\n",
      "15            I-GENRE       0.95    1.00      0.97      123\n",
      "16             I-PLOT       0.63    0.81      0.71      148\n",
      "17           I-RATING       0.99    1.00      1.00      156\n",
      "18  I-RATINGS_AVERAGE       0.81    0.95      0.87      408\n",
      "19           I-REVIEW       0.00    0.00      0.00        9\n",
      "20             I-SONG       0.68    0.63      0.65       43\n",
      "21            I-TITLE       0.90    0.80      0.85     1182\n",
      "22          I-TRAILER       0.00    0.00      0.00        1\n",
      "23             I-YEAR       0.97    1.00      0.99      528\n",
      "24                  O       0.96    0.98      0.97    12447\n"
     ]
    }
   ],
   "source": [
    "y = pd.read_csv('classification_report.csv') # read classification_report.csv\n",
    "print(y)"
   ]
  },
  {
   "cell_type": "code",
   "execution_count": 26,
   "metadata": {
    "colab": {
     "base_uri": "https://localhost:8080/"
    },
    "id": "L69cyhR1TcmO",
    "outputId": "1efe720d-0bfe-49ee-848a-05021c88a2d1"
   },
   "outputs": [
    {
     "data": {
      "text/html": [
       "<div>\n",
       "<style scoped>\n",
       "    .dataframe tbody tr th:only-of-type {\n",
       "        vertical-align: middle;\n",
       "    }\n",
       "\n",
       "    .dataframe tbody tr th {\n",
       "        vertical-align: top;\n",
       "    }\n",
       "\n",
       "    .dataframe thead th {\n",
       "        text-align: right;\n",
       "    }\n",
       "</style>\n",
       "<table border=\"1\" class=\"dataframe\">\n",
       "  <thead>\n",
       "    <tr style=\"text-align: right;\">\n",
       "      <th></th>\n",
       "      <th>class</th>\n",
       "      <th>precision</th>\n",
       "      <th>recall</th>\n",
       "      <th>f1-score</th>\n",
       "      <th>support</th>\n",
       "    </tr>\n",
       "  </thead>\n",
       "  <tbody>\n",
       "    <tr>\n",
       "      <th>22</th>\n",
       "      <td>I-TRAILER</td>\n",
       "      <td>0.00</td>\n",
       "      <td>0.00</td>\n",
       "      <td>0.00</td>\n",
       "      <td>1</td>\n",
       "    </tr>\n",
       "    <tr>\n",
       "      <th>19</th>\n",
       "      <td>I-REVIEW</td>\n",
       "      <td>0.00</td>\n",
       "      <td>0.00</td>\n",
       "      <td>0.00</td>\n",
       "      <td>9</td>\n",
       "    </tr>\n",
       "    <tr>\n",
       "      <th>7</th>\n",
       "      <td>B-REVIEW</td>\n",
       "      <td>0.00</td>\n",
       "      <td>0.00</td>\n",
       "      <td>0.00</td>\n",
       "      <td>31</td>\n",
       "    </tr>\n",
       "    <tr>\n",
       "      <th>16</th>\n",
       "      <td>I-PLOT</td>\n",
       "      <td>0.63</td>\n",
       "      <td>0.81</td>\n",
       "      <td>0.71</td>\n",
       "      <td>148</td>\n",
       "    </tr>\n",
       "    <tr>\n",
       "      <th>20</th>\n",
       "      <td>I-SONG</td>\n",
       "      <td>0.68</td>\n",
       "      <td>0.63</td>\n",
       "      <td>0.65</td>\n",
       "      <td>43</td>\n",
       "    </tr>\n",
       "  </tbody>\n",
       "</table>\n",
       "</div>"
      ],
      "text/plain": [
       "        class  precision  recall  f1-score  support\n",
       "22  I-TRAILER       0.00    0.00      0.00        1\n",
       "19   I-REVIEW       0.00    0.00      0.00        9\n",
       "7    B-REVIEW       0.00    0.00      0.00       31\n",
       "16     I-PLOT       0.63    0.81      0.71      148\n",
       "20     I-SONG       0.68    0.63      0.65       43"
      ]
     },
     "execution_count": 26,
     "metadata": {},
     "output_type": "execute_result"
    }
   ],
   "source": [
    "y_precision = y.sort_values(by = ['precision']) # sort value by 'precision' from lowest to highest\n",
    "y_precision[0:5] # visualise the five lowest precision to illustrate 5 cases in false postive\n"
   ]
  },
  {
   "cell_type": "markdown",
   "metadata": {
    "id": "MlHCs43xoz5q"
   },
   "source": [
    "# Error analysis 2: False negatives \n",
    "\n",
    "For the 5 classes which have the lowest recall, according to the results table from your 20% development data,, print out all the sentences where there is a false negative for that label (i.e. the label is present in the ground truth label for a given word, but that label is not predicted for that word by the tagger). \n",
    "\n",
    "Also, we should examine the 5 lowest recall of the classes, according to the 20% development data, finding the false negative for that label. For example,the label is present in the ground truth label for a given word, but that label is not predicted for that word by the tagger  \n"
   ]
  },
  {
   "cell_type": "code",
   "execution_count": 27,
   "metadata": {
    "colab": {
     "base_uri": "https://localhost:8080/"
    },
    "id": "hFBlSCaSx5Ls",
    "outputId": "9c947470-34d1-4722-9f62-8b7a7053e1c0"
   },
   "outputs": [
    {
     "data": {
      "text/html": [
       "<div>\n",
       "<style scoped>\n",
       "    .dataframe tbody tr th:only-of-type {\n",
       "        vertical-align: middle;\n",
       "    }\n",
       "\n",
       "    .dataframe tbody tr th {\n",
       "        vertical-align: top;\n",
       "    }\n",
       "\n",
       "    .dataframe thead th {\n",
       "        text-align: right;\n",
       "    }\n",
       "</style>\n",
       "<table border=\"1\" class=\"dataframe\">\n",
       "  <thead>\n",
       "    <tr style=\"text-align: right;\">\n",
       "      <th></th>\n",
       "      <th>class</th>\n",
       "      <th>precision</th>\n",
       "      <th>recall</th>\n",
       "      <th>f1-score</th>\n",
       "      <th>support</th>\n",
       "    </tr>\n",
       "  </thead>\n",
       "  <tbody>\n",
       "    <tr>\n",
       "      <th>22</th>\n",
       "      <td>I-TRAILER</td>\n",
       "      <td>0.00</td>\n",
       "      <td>0.00</td>\n",
       "      <td>0.00</td>\n",
       "      <td>1</td>\n",
       "    </tr>\n",
       "    <tr>\n",
       "      <th>7</th>\n",
       "      <td>B-REVIEW</td>\n",
       "      <td>0.00</td>\n",
       "      <td>0.00</td>\n",
       "      <td>0.00</td>\n",
       "      <td>31</td>\n",
       "    </tr>\n",
       "    <tr>\n",
       "      <th>19</th>\n",
       "      <td>I-REVIEW</td>\n",
       "      <td>0.00</td>\n",
       "      <td>0.00</td>\n",
       "      <td>0.00</td>\n",
       "      <td>9</td>\n",
       "    </tr>\n",
       "    <tr>\n",
       "      <th>4</th>\n",
       "      <td>B-PLOT</td>\n",
       "      <td>0.80</td>\n",
       "      <td>0.61</td>\n",
       "      <td>0.69</td>\n",
       "      <td>298</td>\n",
       "    </tr>\n",
       "    <tr>\n",
       "      <th>20</th>\n",
       "      <td>I-SONG</td>\n",
       "      <td>0.68</td>\n",
       "      <td>0.63</td>\n",
       "      <td>0.65</td>\n",
       "      <td>43</td>\n",
       "    </tr>\n",
       "  </tbody>\n",
       "</table>\n",
       "</div>"
      ],
      "text/plain": [
       "        class  precision  recall  f1-score  support\n",
       "22  I-TRAILER       0.00    0.00      0.00        1\n",
       "7    B-REVIEW       0.00    0.00      0.00       31\n",
       "19   I-REVIEW       0.00    0.00      0.00        9\n",
       "4      B-PLOT       0.80    0.61      0.69      298\n",
       "20     I-SONG       0.68    0.63      0.65       43"
      ]
     },
     "execution_count": 27,
     "metadata": {},
     "output_type": "execute_result"
    }
   ],
   "source": [
    "y_recall = y.sort_values(by = ['recall']) #sort value by 'recall' from lowest to highest\n",
    "y_recall[0:5] #visualise the five lowest precision to illustrate 5 cases in false postive"
   ]
  },
  {
   "cell_type": "code",
   "execution_count": null,
   "metadata": {
    "id": "sv9rg81_oz5v"
   },
   "outputs": [],
   "source": []
  }
 ],
 "metadata": {
  "colab": {
   "collapsed_sections": [],
   "name": "Assignment_2_CRF_tagging_in_Movie_Queries_Q1-3.ipynb",
   "provenance": []
  },
  "kernelspec": {
   "display_name": "Python 3",
   "language": "python",
   "name": "python3"
  },
  "language_info": {
   "codemirror_mode": {
    "name": "ipython",
    "version": 3
   },
   "file_extension": ".py",
   "mimetype": "text/x-python",
   "name": "python",
   "nbconvert_exporter": "python",
   "pygments_lexer": "ipython3",
   "version": "3.8.3"
  }
 },
 "nbformat": 4,
 "nbformat_minor": 1
}
